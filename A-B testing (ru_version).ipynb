{
 "cells": [
  {
   "cell_type": "markdown",
   "id": "f43e3dd4",
   "metadata": {},
   "source": [
    "## Вводная информация \n",
    "#### Контекст эксперимента:\n",
    "\n",
    "Компания \"N\" провела эксперимент.  \n",
    "При открытии сайта компании одной части пользователей показывалось стандартное всплывающее окно с анкетой, другой части пользователей было показано новая версия всплывающего окна.\n",
    "В обеих случаях пользователи могли ответить \"yes\" или \"no\" на задаваемый в анкете вопрос, или закрыть всплывающее окно, не ответив.  \n",
    "\n",
    "Повлияла ли новая версия анкеты на конверсию?\n",
    "\n",
    "#### Комментарий:\n",
    "Данные взяты из открытого [источника](https://www.kaggle.com/datasets/osuolaleemmanuel/ad-ab-testing).\n"
   ]
  },
  {
   "cell_type": "markdown",
   "id": "c641a209",
   "metadata": {},
   "source": [
    "## Исследование данных собранных в ходе эксперимента \n",
    "\n",
    "#### Описание столбцов:\n",
    "- __auction_id__ - уникальный идентификатор пользователя, присвоенный при демонстрации всплывающего окна с анкетой;\n",
    "- __experiment__ - группа пользователей (\"control\" - контрольная, \"exposed\" - экспериментальная);\n",
    "- __date__ - дата;\n",
    "- __hour__ - час;\n",
    "- __device_make__ - устройство на котором был открыт сайт;\n",
    "- __platform_os__ - идентификатор ОС устройства;\n",
    "- __browser__ - браузер, используемый пользователем;\n",
    "- __yes__ - пользователь ответил утвердительно на вопрос анкеты (0 - нет, 1 - да);\n",
    "- __no__ - пользователь ответил отрицательно на вопрос анкеты (0 - нет, 1 - да)."
   ]
  },
  {
   "cell_type": "code",
   "execution_count": 2,
   "id": "b831d130",
   "metadata": {},
   "outputs": [],
   "source": [
    "import pandas as pd\n",
    "import numpy as np\n",
    "from scipy import stats"
   ]
  },
  {
   "cell_type": "code",
   "execution_count": 5,
   "id": "6bce4318",
   "metadata": {},
   "outputs": [
    {
     "data": {
      "text/html": [
       "<div>\n",
       "<style scoped>\n",
       "    .dataframe tbody tr th:only-of-type {\n",
       "        vertical-align: middle;\n",
       "    }\n",
       "\n",
       "    .dataframe tbody tr th {\n",
       "        vertical-align: top;\n",
       "    }\n",
       "\n",
       "    .dataframe thead th {\n",
       "        text-align: right;\n",
       "    }\n",
       "</style>\n",
       "<table border=\"1\" class=\"dataframe\">\n",
       "  <thead>\n",
       "    <tr style=\"text-align: right;\">\n",
       "      <th></th>\n",
       "      <th>auction_id</th>\n",
       "      <th>experiment</th>\n",
       "      <th>date</th>\n",
       "      <th>hour</th>\n",
       "      <th>device_make</th>\n",
       "      <th>platform_os</th>\n",
       "      <th>browser</th>\n",
       "      <th>yes</th>\n",
       "      <th>no</th>\n",
       "    </tr>\n",
       "  </thead>\n",
       "  <tbody>\n",
       "    <tr>\n",
       "      <th>0</th>\n",
       "      <td>0008ef63-77a7-448b-bd1e-075f42c55e39</td>\n",
       "      <td>exposed</td>\n",
       "      <td>2020-07-10</td>\n",
       "      <td>8</td>\n",
       "      <td>Generic Smartphone</td>\n",
       "      <td>6</td>\n",
       "      <td>Chrome Mobile</td>\n",
       "      <td>0</td>\n",
       "      <td>0</td>\n",
       "    </tr>\n",
       "    <tr>\n",
       "      <th>1</th>\n",
       "      <td>000eabc5-17ce-4137-8efe-44734d914446</td>\n",
       "      <td>exposed</td>\n",
       "      <td>2020-07-07</td>\n",
       "      <td>10</td>\n",
       "      <td>Generic Smartphone</td>\n",
       "      <td>6</td>\n",
       "      <td>Chrome Mobile</td>\n",
       "      <td>0</td>\n",
       "      <td>0</td>\n",
       "    </tr>\n",
       "    <tr>\n",
       "      <th>2</th>\n",
       "      <td>0016d14a-ae18-4a02-a204-6ba53b52f2ed</td>\n",
       "      <td>exposed</td>\n",
       "      <td>2020-07-05</td>\n",
       "      <td>2</td>\n",
       "      <td>E5823</td>\n",
       "      <td>6</td>\n",
       "      <td>Chrome Mobile WebView</td>\n",
       "      <td>0</td>\n",
       "      <td>1</td>\n",
       "    </tr>\n",
       "    <tr>\n",
       "      <th>3</th>\n",
       "      <td>00187412-2932-4542-a8ef-3633901c98d9</td>\n",
       "      <td>control</td>\n",
       "      <td>2020-07-03</td>\n",
       "      <td>15</td>\n",
       "      <td>Samsung SM-A705FN</td>\n",
       "      <td>6</td>\n",
       "      <td>Facebook</td>\n",
       "      <td>0</td>\n",
       "      <td>0</td>\n",
       "    </tr>\n",
       "    <tr>\n",
       "      <th>4</th>\n",
       "      <td>001a7785-d3fe-4e11-a344-c8735acacc2c</td>\n",
       "      <td>control</td>\n",
       "      <td>2020-07-03</td>\n",
       "      <td>15</td>\n",
       "      <td>Generic Smartphone</td>\n",
       "      <td>6</td>\n",
       "      <td>Chrome Mobile</td>\n",
       "      <td>0</td>\n",
       "      <td>0</td>\n",
       "    </tr>\n",
       "    <tr>\n",
       "      <th>...</th>\n",
       "      <td>...</td>\n",
       "      <td>...</td>\n",
       "      <td>...</td>\n",
       "      <td>...</td>\n",
       "      <td>...</td>\n",
       "      <td>...</td>\n",
       "      <td>...</td>\n",
       "      <td>...</td>\n",
       "      <td>...</td>\n",
       "    </tr>\n",
       "    <tr>\n",
       "      <th>8072</th>\n",
       "      <td>ffea24ec-cec1-43fb-b1d1-8f93828c2be2</td>\n",
       "      <td>exposed</td>\n",
       "      <td>2020-07-05</td>\n",
       "      <td>7</td>\n",
       "      <td>Generic Smartphone</td>\n",
       "      <td>6</td>\n",
       "      <td>Chrome Mobile</td>\n",
       "      <td>0</td>\n",
       "      <td>0</td>\n",
       "    </tr>\n",
       "    <tr>\n",
       "      <th>8073</th>\n",
       "      <td>ffea3210-2c3e-426f-a77d-0aa72e73b20f</td>\n",
       "      <td>control</td>\n",
       "      <td>2020-07-03</td>\n",
       "      <td>15</td>\n",
       "      <td>Generic Smartphone</td>\n",
       "      <td>6</td>\n",
       "      <td>Chrome Mobile</td>\n",
       "      <td>0</td>\n",
       "      <td>0</td>\n",
       "    </tr>\n",
       "    <tr>\n",
       "      <th>8074</th>\n",
       "      <td>ffeaa0f1-1d72-4ba9-afb4-314b3b00a7c7</td>\n",
       "      <td>control</td>\n",
       "      <td>2020-07-04</td>\n",
       "      <td>9</td>\n",
       "      <td>Generic Smartphone</td>\n",
       "      <td>6</td>\n",
       "      <td>Chrome Mobile</td>\n",
       "      <td>0</td>\n",
       "      <td>0</td>\n",
       "    </tr>\n",
       "    <tr>\n",
       "      <th>8075</th>\n",
       "      <td>ffeeed62-3f7c-4a6e-8ba7-95d303d40969</td>\n",
       "      <td>exposed</td>\n",
       "      <td>2020-07-05</td>\n",
       "      <td>15</td>\n",
       "      <td>Samsung SM-A515F</td>\n",
       "      <td>6</td>\n",
       "      <td>Samsung Internet</td>\n",
       "      <td>0</td>\n",
       "      <td>0</td>\n",
       "    </tr>\n",
       "    <tr>\n",
       "      <th>8076</th>\n",
       "      <td>fffbb9ff-568a-41a5-a0c3-6866592f80d8</td>\n",
       "      <td>control</td>\n",
       "      <td>2020-07-10</td>\n",
       "      <td>14</td>\n",
       "      <td>Samsung SM-G960F</td>\n",
       "      <td>6</td>\n",
       "      <td>Facebook</td>\n",
       "      <td>0</td>\n",
       "      <td>0</td>\n",
       "    </tr>\n",
       "  </tbody>\n",
       "</table>\n",
       "<p>8077 rows × 9 columns</p>\n",
       "</div>"
      ],
      "text/plain": [
       "                                auction_id experiment        date  hour  \\\n",
       "0     0008ef63-77a7-448b-bd1e-075f42c55e39    exposed  2020-07-10     8   \n",
       "1     000eabc5-17ce-4137-8efe-44734d914446    exposed  2020-07-07    10   \n",
       "2     0016d14a-ae18-4a02-a204-6ba53b52f2ed    exposed  2020-07-05     2   \n",
       "3     00187412-2932-4542-a8ef-3633901c98d9    control  2020-07-03    15   \n",
       "4     001a7785-d3fe-4e11-a344-c8735acacc2c    control  2020-07-03    15   \n",
       "...                                    ...        ...         ...   ...   \n",
       "8072  ffea24ec-cec1-43fb-b1d1-8f93828c2be2    exposed  2020-07-05     7   \n",
       "8073  ffea3210-2c3e-426f-a77d-0aa72e73b20f    control  2020-07-03    15   \n",
       "8074  ffeaa0f1-1d72-4ba9-afb4-314b3b00a7c7    control  2020-07-04     9   \n",
       "8075  ffeeed62-3f7c-4a6e-8ba7-95d303d40969    exposed  2020-07-05    15   \n",
       "8076  fffbb9ff-568a-41a5-a0c3-6866592f80d8    control  2020-07-10    14   \n",
       "\n",
       "             device_make  platform_os                browser  yes  no  \n",
       "0     Generic Smartphone            6          Chrome Mobile    0   0  \n",
       "1     Generic Smartphone            6          Chrome Mobile    0   0  \n",
       "2                  E5823            6  Chrome Mobile WebView    0   1  \n",
       "3      Samsung SM-A705FN            6               Facebook    0   0  \n",
       "4     Generic Smartphone            6          Chrome Mobile    0   0  \n",
       "...                  ...          ...                    ...  ...  ..  \n",
       "8072  Generic Smartphone            6          Chrome Mobile    0   0  \n",
       "8073  Generic Smartphone            6          Chrome Mobile    0   0  \n",
       "8074  Generic Smartphone            6          Chrome Mobile    0   0  \n",
       "8075    Samsung SM-A515F            6       Samsung Internet    0   0  \n",
       "8076    Samsung SM-G960F            6               Facebook    0   0  \n",
       "\n",
       "[8077 rows x 9 columns]"
      ]
     },
     "execution_count": 5,
     "metadata": {},
     "output_type": "execute_result"
    }
   ],
   "source": [
    "# загрузка датафрейма \n",
    "df = pd.read_csv(r\"data\\ab_data_1.csv\")\n",
    "df"
   ]
  },
  {
   "cell_type": "code",
   "execution_count": 148,
   "id": "b41b9f87",
   "metadata": {},
   "outputs": [
    {
     "data": {
      "text/plain": [
       "Friday       2908\n",
       "Thursday     1208\n",
       "Wednesday    1198\n",
       "Saturday      903\n",
       "Sunday        890\n",
       "Monday        490\n",
       "Tuesday       480\n",
       "Name: date, dtype: int64"
      ]
     },
     "execution_count": 148,
     "metadata": {},
     "output_type": "execute_result"
    }
   ],
   "source": [
    "# время проведения эксперимента \n",
    "df['date'].nunique()\n",
    "\n",
    "# количество демонстраций в разные дни недели \n",
    "df['date'] = pd.to_datetime(df['date'])\n",
    "df['date'].dt.day_name().value_counts()\n",
    "\n",
    "## эксперимент длился 8 дней\n",
    "## А-Б тест длиться больше недели, это позволяет учесть различие в поведении пользователей в разные дни недели"
   ]
  },
  {
   "cell_type": "code",
   "execution_count": 4,
   "id": "663cabe4",
   "metadata": {},
   "outputs": [
    {
     "data": {
      "text/plain": [
       "Chrome Mobile            0.563823\n",
       "Chrome Mobile WebView    0.184351\n",
       "Samsung Internet         0.102018\n",
       "Facebook                 0.094590\n",
       "Mobile Safari            0.041723\n",
       "OTHER                    0.013495\n",
       "Name: browser, dtype: float64"
      ]
     },
     "execution_count": 4,
     "metadata": {},
     "output_type": "execute_result"
    }
   ],
   "source": [
    "# какими браузерами пользовались участники эксперимента \n",
    "\n",
    "df['browser'].value_counts()\n",
    "\n",
    "## браузеры, используемые не часто, объединяем в одну группу \"OTHER\"\n",
    "valid_br = df['browser'].value_counts().index[:5]\n",
    "df['browser'] = df['browser'].apply(lambda a: a if a in valid_br else 'OTHER')\n",
    "\n",
    "df['browser'].value_counts(normalize=True)\n",
    "\n",
    "## более половины пользователей в ходе эксперимента воспользовались \"Chrome Mobile\""
   ]
  },
  {
   "cell_type": "code",
   "execution_count": 6,
   "id": "8d87e21e",
   "metadata": {},
   "outputs": [],
   "source": [
    "# добавление столбеца \"pass\", определяющего совершил пользователь целевое действие или нет \n",
    "df['pass'] = df.apply(lambda row: 0 if (row['yes']==0)&(row['no']==0) else 1, axis=1)\n",
    "\n",
    "# разделение датафрейма на экспериментальную и контрольную группу \n",
    "df_control = df[df['experiment']=='control']\n",
    "df_exposed = df[df['experiment']=='exposed']"
   ]
  },
  {
   "cell_type": "code",
   "execution_count": 8,
   "id": "b84df4b2",
   "metadata": {},
   "outputs": [
    {
     "name": "stdout",
     "output_type": "stream",
     "text": [
      "Экспериментальная группа:\n",
      "0    0.835996\n",
      "1    0.164004\n",
      "Name: pass, dtype: float64\n",
      "\n",
      "Контрольная группа:\n",
      "0    0.856055\n",
      "1    0.143945\n",
      "Name: pass, dtype: float64\n"
     ]
    }
   ],
   "source": [
    "# экспериментальная группа\n",
    "print('Экспериментальная группа:', df_exposed['pass'].value_counts(normalize=True), sep='\\n', end='\\n\\n')\n",
    "\n",
    "# контрольная группа\n",
    "print('Контрольная группа:', df_control['pass'].value_counts(normalize=True), sep='\\n')\n",
    "\n",
    "## в экспериментальной группе конверсия составляет 16%, в контрольной группе - 14%\n",
    "## т.е. размер эффекта составил 2 "
   ]
  },
  {
   "cell_type": "markdown",
   "id": "a318fd5a",
   "metadata": {},
   "source": [
    "## Проверка гипотезы о влиянии новой версии анкеты на конверсию\n",
    "\n",
    "H<sub>0</sub>: Процент людей, прошедших опрос, в обоих группах не отличается  \n",
    "H<sub>А</sub>: Процент людей, прошедших опрос, в экспериментальной группе выше по сравнению с контрольной"
   ]
  },
  {
   "cell_type": "code",
   "execution_count": 43,
   "id": "1550a145",
   "metadata": {},
   "outputs": [],
   "source": [
    "## для проверки гипотезы воспользуемся Z-критерием для разности долей в независимых выборках\n",
    "from statsmodels.stats.proportion import proportions_ztest\n",
    "\n",
    "# размер контрольной выборки \n",
    "control_len = len(df_control)\n",
    "# кол-во людей, прошедших опрос, в контрольной выборке \n",
    "control_pass = len(df_control[df_control['pass']==1])\n",
    "\n",
    "# размер экспериментальной выборки \n",
    "exposed_len = len(df_exposed)\n",
    "# кол-во людей, прошедших опрос, в экспериментальной выборке \n",
    "exposed_pass = len(df_exposed[df_exposed['pass']==1])\n",
    "\n",
    "# уровень значимости\n",
    "alpha = 0.05 "
   ]
  },
  {
   "cell_type": "code",
   "execution_count": 10,
   "id": "45662959",
   "metadata": {},
   "outputs": [
    {
     "name": "stdout",
     "output_type": "stream",
     "text": [
      "P-значение: 0.0125\n"
     ]
    }
   ],
   "source": [
    "# проверка гипотезы о равенстве долей \n",
    "_, p_val =  proportions_ztest(count=(exposed_pass, control_pass), nobs=(exposed_len, control_len))\n",
    "print(f\"P-значение: {p_val:.3}\") \n",
    "## p-value меньше определенного ранее уровня значимости. нулевая гипотеза гипотеза отвергается\n",
    "## доли людей, ответивших на вопрос, в двух группах не равны "
   ]
  },
  {
   "cell_type": "code",
   "execution_count": 11,
   "id": "b602292b",
   "metadata": {},
   "outputs": [
    {
     "name": "stdout",
     "output_type": "stream",
     "text": [
      "P-значение: 0.00625\n"
     ]
    }
   ],
   "source": [
    "# проверка гипотезы о равенстве долей, с указанием альтернативной гипотезы: доля прошедших опрос в экспериментальной группе выше чем в контрольной\n",
    "_, p_val =  proportions_ztest(count=(exposed_pass, control_pass), nobs=(exposed_len, control_len), alternative='larger')\n",
    "print(f\"P-значение: {p_val:.3}\") \n",
    "## p-value меньше определенного ранее уровня значимости, нулевая гипотеза отвергается в пользу альтернативной"
   ]
  },
  {
   "cell_type": "code",
   "execution_count": 42,
   "id": "46086243",
   "metadata": {},
   "outputs": [
    {
     "data": {
      "text/plain": [
       "0.9715829560005882"
      ]
     },
     "execution_count": 42,
     "metadata": {},
     "output_type": "execute_result"
    }
   ],
   "source": [
    "# расчет мощности проведенного эксперимента \n",
    "\n",
    "# функция \"get_power\" упрощает работу с функцией \"zt_ind_solve_power\" из библиотеки \"statsmodels\"\n",
    "def get_power(l_1, l_2, g_1, g_2, alpha, alternative='two-sided'):\n",
    "    \n",
    "    from statsmodels.stats.power import zt_ind_solve_power\n",
    "    \n",
    "    # доля пользователей, ответивших на вопрос из анкеты\n",
    "    p_1 = g_1 / l_1\n",
    "    p_2 = g_2 / l_2 \n",
    "    \n",
    "    # дисперсии\n",
    "    var_1 = p_1 * (1-p_1)\n",
    "    var_2 = p_2 * (1-p_2)\n",
    "    \n",
    "    # стандартизированный размер эффекта\n",
    "    st_ef = (p_2 - p_1) / ((l_1*np.sqrt(var_1) + l_2*np.sqrt(var_2)) / (l_1 + l_2))\n",
    "\n",
    "    return zt_ind_solve_power(effect_size=st_ef, # стандартизованный размер эффекта\n",
    "                       nobs1=l_1 + l_2,          # суммарное число наблюдений\n",
    "                       alpha=alpha,              # уровень значимости\n",
    "                       power=None,               # мощность (None, т.к. ее необходимо найти)\n",
    "                       ratio=l_1 / l_2,          # отношение размеров выборок\n",
    "                       alternative=alternative)  # альтернатива\n",
    "        \n",
    "get_power(len(df_control), \n",
    "          len(df_exposed), \n",
    "          df_control['pass'].value_counts()[1], \n",
    "          df_exposed['pass'].value_counts()[1],\n",
    "          alpha=0.05, alternative='larger')    \n",
    "## при уровне значимость 0.05, мощность проведенного эксперимента равна 0.97 "
   ]
  },
  {
   "cell_type": "markdown",
   "id": "4da7ff7e",
   "metadata": {},
   "source": [
    "Проверка результата результат расчета мощности.  \n",
    "На основании полученной мощности, рассчитаем заранее известный нам размере выборки. Расчет размера выборки, необходимого для получения заданных ошибок первого и второго рода, в данном случае, будет выполняться по формуле:  \n",
    "\n",
    "$$n = \\left(\\frac{{Z_{1-\\alpha} \\cdot \\sqrt{{p_{\\text{0}} \\cdot (1 - p_{\\text{0}})}} + Z_{1-\\beta} \\cdot \\sqrt{{p_{\\text{a}} \\cdot (1 - p_{\\text{a}})}}}}{{p_{\\text{a}} - p_{\\text{0}}}}\\right)^2$$\n",
    "\n",
    "где:  \n",
    "__n__ - число наблюдений;  \n",
    "__α__ - ошибка первого рода;  \n",
    "__β__ - ошибка второго рода;  \n",
    "__z<sub>1-α</sub>,  z<sub>1-β</sub>__ - квантили нормального распределения;  \n",
    "__p<sub>0</sub>__,  __p<sub>a</sub>__ - отношения ответов на вопрос к показам окна в контрольной группе и в экспериментальной группе;  \n",
    "__(p<sub>0</sub> - p<sub>a</sub>)__ - размер эффекта, который хотим задетектить."
   ]
  },
  {
   "cell_type": "code",
   "execution_count": 15,
   "id": "518f5086",
   "metadata": {},
   "outputs": [
    {
     "data": {
      "text/plain": [
       "4033"
      ]
     },
     "execution_count": 15,
     "metadata": {},
     "output_type": "execute_result"
    }
   ],
   "source": [
    "# функция расчета необходимого объема выборки для достижения требуемых значений ошибки первого и второго рода \n",
    "\n",
    "def get_size(p0, pa, alpha, beta):\n",
    "    za = stats.norm.ppf(1 - alpha)\n",
    "    zb = stats.norm.ppf(1 - beta)    \n",
    "    n = za * np.sqrt(p0*(1 - p0)) + zb * np.sqrt(pa*(1-pa))\n",
    "    n = n / (pa - p0) \n",
    "    return int(np.ceil(n*n))\n",
    "\n",
    "alpha = 0.05\n",
    "beta = 0.03 # 1 - 0.97 (полученное значение мощности)\n",
    "\n",
    "get_size(df_control['pass'].value_counts(normalize=True)[1],\n",
    "         df_exposed['pass'].value_counts(normalize=True)[1], \n",
    "         alpha, beta)\n",
    "## результат расчета, требуемого размера одной группы, равен 4033 (при условии что две группы будут одинаковые). фактические размеры групп равны 4071, 4006\n",
    "## по результату проверки можно сделать вывод, о том что мощность эксперимента рассчитана верно "
   ]
  },
  {
   "cell_type": "markdown",
   "id": "584958b9",
   "metadata": {},
   "source": [
    "## Влияние используемого браузера на конверсию при проведении эксперимента \n",
    "Проверим гипотезу о равенстве конверсий в контрольной и экспериментальной группе, с учетом браузера, в котором пользователи открывали сайт."
   ]
  },
  {
   "cell_type": "code",
   "execution_count": 27,
   "id": "7084027f",
   "metadata": {},
   "outputs": [
    {
     "data": {
      "text/html": [
       "<div>\n",
       "<style scoped>\n",
       "    .dataframe tbody tr th:only-of-type {\n",
       "        vertical-align: middle;\n",
       "    }\n",
       "\n",
       "    .dataframe tbody tr th {\n",
       "        vertical-align: top;\n",
       "    }\n",
       "\n",
       "    .dataframe thead th {\n",
       "        text-align: right;\n",
       "    }\n",
       "</style>\n",
       "<table border=\"1\" class=\"dataframe\">\n",
       "  <thead>\n",
       "    <tr style=\"text-align: right;\">\n",
       "      <th></th>\n",
       "      <th>pass_exposed</th>\n",
       "      <th>pass_control</th>\n",
       "    </tr>\n",
       "    <tr>\n",
       "      <th>browser</th>\n",
       "      <th></th>\n",
       "      <th></th>\n",
       "    </tr>\n",
       "  </thead>\n",
       "  <tbody>\n",
       "    <tr>\n",
       "      <th>Chrome Mobile</th>\n",
       "      <td>2144</td>\n",
       "      <td>2410</td>\n",
       "    </tr>\n",
       "    <tr>\n",
       "      <th>Chrome Mobile WebView</th>\n",
       "      <td>1197</td>\n",
       "      <td>292</td>\n",
       "    </tr>\n",
       "    <tr>\n",
       "      <th>Facebook</th>\n",
       "      <td>203</td>\n",
       "      <td>561</td>\n",
       "    </tr>\n",
       "    <tr>\n",
       "      <th>Mobile Safari</th>\n",
       "      <td>91</td>\n",
       "      <td>246</td>\n",
       "    </tr>\n",
       "    <tr>\n",
       "      <th>OTHER</th>\n",
       "      <td>39</td>\n",
       "      <td>70</td>\n",
       "    </tr>\n",
       "    <tr>\n",
       "      <th>Samsung Internet</th>\n",
       "      <td>332</td>\n",
       "      <td>492</td>\n",
       "    </tr>\n",
       "  </tbody>\n",
       "</table>\n",
       "</div>"
      ],
      "text/plain": [
       "                       pass_exposed  pass_control\n",
       "browser                                          \n",
       "Chrome Mobile                  2144          2410\n",
       "Chrome Mobile WebView          1197           292\n",
       "Facebook                        203           561\n",
       "Mobile Safari                    91           246\n",
       "OTHER                            39            70\n",
       "Samsung Internet                332           492"
      ]
     },
     "execution_count": 27,
     "metadata": {},
     "output_type": "execute_result"
    }
   ],
   "source": [
    "# сводная таблица кол-ва показов анкеты в разных браузерах \n",
    "\n",
    "browser_tab = df_exposed.groupby(['browser']).agg({'pass':'count'}).merge(\n",
    "    df_control.groupby(['browser']).agg({'pass':'count'}), \n",
    "    left_index=True, right_index=True,  suffixes=('_exposed', '_control'))\n",
    "\n",
    "browser_tab"
   ]
  },
  {
   "cell_type": "code",
   "execution_count": 28,
   "id": "9b109acc",
   "metadata": {},
   "outputs": [
    {
     "data": {
      "text/html": [
       "<div>\n",
       "<style scoped>\n",
       "    .dataframe tbody tr th:only-of-type {\n",
       "        vertical-align: middle;\n",
       "    }\n",
       "\n",
       "    .dataframe tbody tr th {\n",
       "        vertical-align: top;\n",
       "    }\n",
       "\n",
       "    .dataframe thead th {\n",
       "        text-align: right;\n",
       "    }\n",
       "</style>\n",
       "<table border=\"1\" class=\"dataframe\">\n",
       "  <thead>\n",
       "    <tr style=\"text-align: right;\">\n",
       "      <th></th>\n",
       "      <th></th>\n",
       "      <th>pass_exposed</th>\n",
       "      <th>pass_control</th>\n",
       "    </tr>\n",
       "    <tr>\n",
       "      <th>browser</th>\n",
       "      <th>pass</th>\n",
       "      <th></th>\n",
       "      <th></th>\n",
       "    </tr>\n",
       "  </thead>\n",
       "  <tbody>\n",
       "    <tr>\n",
       "      <th rowspan=\"2\" valign=\"top\">Chrome Mobile</th>\n",
       "      <th>0</th>\n",
       "      <td>1773</td>\n",
       "      <td>2086</td>\n",
       "    </tr>\n",
       "    <tr>\n",
       "      <th>1</th>\n",
       "      <td>371</td>\n",
       "      <td>324</td>\n",
       "    </tr>\n",
       "    <tr>\n",
       "      <th rowspan=\"2\" valign=\"top\">Chrome Mobile WebView</th>\n",
       "      <th>0</th>\n",
       "      <td>1017</td>\n",
       "      <td>245</td>\n",
       "    </tr>\n",
       "    <tr>\n",
       "      <th>1</th>\n",
       "      <td>180</td>\n",
       "      <td>47</td>\n",
       "    </tr>\n",
       "    <tr>\n",
       "      <th rowspan=\"2\" valign=\"top\">Facebook</th>\n",
       "      <th>0</th>\n",
       "      <td>159</td>\n",
       "      <td>449</td>\n",
       "    </tr>\n",
       "    <tr>\n",
       "      <th>1</th>\n",
       "      <td>44</td>\n",
       "      <td>112</td>\n",
       "    </tr>\n",
       "    <tr>\n",
       "      <th rowspan=\"2\" valign=\"top\">Mobile Safari</th>\n",
       "      <th>0</th>\n",
       "      <td>87</td>\n",
       "      <td>236</td>\n",
       "    </tr>\n",
       "    <tr>\n",
       "      <th>1</th>\n",
       "      <td>4</td>\n",
       "      <td>10</td>\n",
       "    </tr>\n",
       "    <tr>\n",
       "      <th rowspan=\"2\" valign=\"top\">OTHER</th>\n",
       "      <th>0</th>\n",
       "      <td>38</td>\n",
       "      <td>65</td>\n",
       "    </tr>\n",
       "    <tr>\n",
       "      <th>1</th>\n",
       "      <td>1</td>\n",
       "      <td>5</td>\n",
       "    </tr>\n",
       "    <tr>\n",
       "      <th rowspan=\"2\" valign=\"top\">Samsung Internet</th>\n",
       "      <th>0</th>\n",
       "      <td>275</td>\n",
       "      <td>404</td>\n",
       "    </tr>\n",
       "    <tr>\n",
       "      <th>1</th>\n",
       "      <td>57</td>\n",
       "      <td>88</td>\n",
       "    </tr>\n",
       "  </tbody>\n",
       "</table>\n",
       "</div>"
      ],
      "text/plain": [
       "                            pass_exposed  pass_control\n",
       "browser               pass                            \n",
       "Chrome Mobile         0             1773          2086\n",
       "                      1              371           324\n",
       "Chrome Mobile WebView 0             1017           245\n",
       "                      1              180            47\n",
       "Facebook              0              159           449\n",
       "                      1               44           112\n",
       "Mobile Safari         0               87           236\n",
       "                      1                4            10\n",
       "OTHER                 0               38            65\n",
       "                      1                1             5\n",
       "Samsung Internet      0              275           404\n",
       "                      1               57            88"
      ]
     },
     "execution_count": 28,
     "metadata": {},
     "output_type": "execute_result"
    }
   ],
   "source": [
    "# сводная таблица кол-ва пропусков и ответов на вопрос анкеты\n",
    "browser_tab_dit = df_exposed.groupby(['browser']).agg({'pass':'value_counts'}).merge(\n",
    "    df_control.groupby(['browser']).agg({'pass':'value_counts'}), \n",
    "    left_index=True, right_index=True,  suffixes=('_exposed', '_control'))\n",
    "\n",
    "browser_tab_dit"
   ]
  },
  {
   "cell_type": "code",
   "execution_count": null,
   "id": "2345bd74",
   "metadata": {},
   "outputs": [],
   "source": [
    "# проверка гипотезы о равенстве конверсий в контрольной и экспериментальной группе для каждого браузера "
   ]
  },
  {
   "cell_type": "code",
   "execution_count": 93,
   "id": "dc446e18",
   "metadata": {},
   "outputs": [
    {
     "name": "stdout",
     "output_type": "stream",
     "text": [
      "P-значение: 0.00015\n",
      "мощьность: 0.9998633200807792\n"
     ]
    }
   ],
   "source": [
    "_, p_val =  proportions_ztest(count=(browser_tab_dit.loc['Chrome Mobile', 'pass_exposed'][1],browser_tab_dit.loc['Chrome Mobile', 'pass_control'][1]), \n",
    "                              nobs=(browser_tab.loc['Chrome Mobile', 'pass_exposed'], browser_tab.loc['Chrome Mobile', 'pass_control']), alternative='larger')\n",
    "print(f\"P-значение: {p_val:.3}\") \n",
    "print('Мощьность:', get_power(browser_tab.loc['Chrome Mobile', 'pass_control'],\n",
    "          browser_tab.loc['Chrome Mobile', 'pass_exposed'],\n",
    "          browser_tab_dit.loc['Chrome Mobile', 'pass_control'][1],\n",
    "          browser_tab_dit.loc['Chrome Mobile', 'pass_exposed'][1],\n",
    "          alpha=0.05, alternative='larger'))"
   ]
  },
  {
   "cell_type": "code",
   "execution_count": 106,
   "id": "95dd82e3",
   "metadata": {},
   "outputs": [
    {
     "name": "stdout",
     "output_type": "stream",
     "text": [
      "P-значение: 0.326\n",
      "мощьность: 0.12679098371579473\n"
     ]
    }
   ],
   "source": [
    "_, p_val =  proportions_ztest(count=(browser_tab_dit.loc['Chrome Mobile WebView', 'pass_exposed'][1],browser_tab_dit.loc['Chrome Mobile WebView', 'pass_control'][1]), \n",
    "                              nobs=(browser_tab.loc['Chrome Mobile WebView', 'pass_exposed'], browser_tab.loc['Chrome Mobile WebView', 'pass_control']), alternative='smaller')\n",
    "print(f\"P-значение: {p_val:.3}\") \n",
    "print('Мощьность:', get_power(browser_tab.loc['Chrome Mobile WebView', 'pass_control'],\n",
    "          browser_tab.loc['Chrome Mobile WebView', 'pass_exposed'],\n",
    "          browser_tab_dit.loc['Chrome Mobile WebView', 'pass_control'][1],\n",
    "          browser_tab_dit.loc['Chrome Mobile WebView', 'pass_exposed'][1],\n",
    "          alpha=0.05, alternative='smaller'))"
   ]
  },
  {
   "cell_type": "code",
   "execution_count": 110,
   "id": "cd94ef0b",
   "metadata": {},
   "outputs": [
    {
     "name": "stdout",
     "output_type": "stream",
     "text": [
      "P-значение: 0.302\n",
      "мощьность: 0.26123956220629674\n"
     ]
    }
   ],
   "source": [
    "_, p_val =  proportions_ztest(count=(browser_tab_dit.loc['Facebook', 'pass_exposed'][1],browser_tab_dit.loc['Facebook', 'pass_control'][1]), \n",
    "                              nobs=(browser_tab.loc['Facebook', 'pass_exposed'], browser_tab.loc['Facebook', 'pass_control']), alternative='larger')\n",
    "print(f\"P-значение: {p_val:.3}\") \n",
    "print('Мощьность:', get_power(browser_tab.loc['Facebook', 'pass_control'],\n",
    "          browser_tab.loc['Facebook', 'pass_exposed'],\n",
    "          browser_tab_dit.loc['Facebook', 'pass_control'][1],\n",
    "          browser_tab_dit.loc['Facebook', 'pass_exposed'][1],\n",
    "          alpha=0.05, alternative='larger'))"
   ]
  },
  {
   "cell_type": "code",
   "execution_count": 135,
   "id": "106401df",
   "metadata": {},
   "outputs": [
    {
     "name": "stdout",
     "output_type": "stream",
     "text": [
      "P-значение: 0.446\n",
      "мощьность: 0.08302908202596099\n"
     ]
    }
   ],
   "source": [
    "_, p_val =  proportions_ztest(count=(browser_tab_dit.loc['Mobile Safari', 'pass_exposed'][1],browser_tab_dit.loc['Mobile Safari', 'pass_control'][1]), \n",
    "                              nobs=(browser_tab.loc['Mobile Safari', 'pass_exposed'], browser_tab.loc['Mobile Safari', 'pass_control']), alternative='larger')\n",
    "print(f\"P-значение: {p_val:.3}\") \n",
    "print('Мощьность:', get_power(browser_tab.loc['Mobile Safari', 'pass_control'],\n",
    "          browser_tab.loc['Mobile Safari', 'pass_exposed'],\n",
    "          browser_tab_dit.loc['Mobile Safari', 'pass_control'][1],\n",
    "          browser_tab_dit.loc['Mobile Safari', 'pass_exposed'][1],\n",
    "          alpha=0.05, alternative='larger')) "
   ]
  },
  {
   "cell_type": "code",
   "execution_count": 142,
   "id": "4badec0d",
   "metadata": {},
   "outputs": [
    {
     "name": "stdout",
     "output_type": "stream",
     "text": [
      "P-значение: 0.395\n",
      "мощьность: 0.10993357712883428\n"
     ]
    }
   ],
   "source": [
    "_, p_val =  proportions_ztest(count=(browser_tab_dit.loc['Samsung Internet', 'pass_exposed'][1],browser_tab_dit.loc['Samsung Internet', 'pass_control'][1]), \n",
    "                              nobs=(browser_tab.loc['Samsung Internet', 'pass_exposed'], browser_tab.loc['Samsung Internet', 'pass_control']), alternative='smaller')\n",
    "print(f\"P-значение: {p_val:.3}\") \n",
    "print('Мощьность:', get_power(browser_tab.loc['Samsung Internet', 'pass_control'],\n",
    "          browser_tab.loc['Samsung Internet', 'pass_exposed'],\n",
    "          browser_tab_dit.loc['Samsung Internet', 'pass_control'][1],\n",
    "          browser_tab_dit.loc['Samsung Internet', 'pass_exposed'][1],\n",
    "          alpha=0.05, alternative='smaller'))"
   ]
  },
  {
   "cell_type": "code",
   "execution_count": 146,
   "id": "8f2aab51",
   "metadata": {},
   "outputs": [
    {
     "name": "stdout",
     "output_type": "stream",
     "text": [
      "P-значение: 0.158\n",
      "мощьность: 0.5323486996315873\n"
     ]
    }
   ],
   "source": [
    "_, p_val =  proportions_ztest(count=(browser_tab_dit.loc['OTHER', 'pass_exposed'][1],browser_tab_dit.loc['OTHER', 'pass_control'][1]), \n",
    "                              nobs=(browser_tab.loc['OTHER', 'pass_exposed'], browser_tab.loc['OTHER', 'pass_control']), alternative='smaller')\n",
    "print(f\"P-значение: {p_val:.3}\") \n",
    "print('Мощьность:', get_power(browser_tab.loc['OTHER', 'pass_control'],\n",
    "          browser_tab.loc['OTHER', 'pass_exposed'],\n",
    "          browser_tab_dit.loc['OTHER', 'pass_control'][1],\n",
    "          browser_tab_dit.loc['OTHER', 'pass_exposed'][1],\n",
    "          alpha=0.05, alternative='smaller'))"
   ]
  },
  {
   "cell_type": "code",
   "execution_count": null,
   "id": "7ac6c9bb",
   "metadata": {},
   "outputs": [],
   "source": [
    "## статистически значимое различие в конверсиях наблюдается только в случае \"Chrome Mobile\"\n",
    "## в остальных случаях гипотеза об отсутствии различий в конверсиях не отвергается, однако, мощность данных экспериментов мала"
   ]
  },
  {
   "cell_type": "markdown",
   "id": "1574b0c1",
   "metadata": {},
   "source": [
    "## Резюме \n",
    "\n",
    "#### Результаты исследования:\n",
    " - Новый вариант всплывающего окна положительно сказывается на конверсии прохождения анкетирования. Статистический тест подтверждает значимость различия.\n",
    " - При текущих условиях эксперимента конверсия в контрольной группе составила 14%, а в экспериментальной группе 16%.\n",
    " - При текущих условиях эксперимента, наличие статистически значимого различия между конверсиями в контрольной и экспериментальной группе наблюдается только среди пользователей, использующих \"Chrome Mobile\" для просмотра сайта. Однако, в случае с пользователями других браузеров, мощность соответствующих экспериментов мала.\n",
    " \n",
    "#### Рекомендации:\n",
    " - Владельцу продукта (сайта) необходимо сделать вывод о существенности изменения конверсии.\n",
    " - В случае, если изменения будут сочтены существенными, рекомендуется провести  А-А тест для проверки результатов А-В теста. \n",
    " - Для того чтобы с большей уверенностью говорить об отсутствии статистически значимых различий между конверсиями в контрольных и экспериментальных группе среди пользователей, использующих не \"Chrome Mobile\" для просмотра сайта, необходимо увеличить число пользователей участвующих в эксперименте. \n",
    " \n",
    "#### Комментарий:\n",
    "Все выводы сделаны, исходя из предположения, что пользователи, участвующие в эксперименте, относятся к одной когорте, выбраны случайным образом, а также не участвуют в других экспериментах, влияющих на прохождение текущего."
   ]
  }
 ],
 "metadata": {
  "kernelspec": {
   "display_name": "Python 3 (ipykernel)",
   "language": "python",
   "name": "python3"
  },
  "language_info": {
   "codemirror_mode": {
    "name": "ipython",
    "version": 3
   },
   "file_extension": ".py",
   "mimetype": "text/x-python",
   "name": "python",
   "nbconvert_exporter": "python",
   "pygments_lexer": "ipython3",
   "version": "3.9.13"
  }
 },
 "nbformat": 4,
 "nbformat_minor": 5
}
