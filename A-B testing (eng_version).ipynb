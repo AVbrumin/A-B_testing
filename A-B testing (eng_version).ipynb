{
 "cells": [
  {
   "cell_type": "markdown",
   "id": "f43e3dd4",
   "metadata": {},
   "source": [
    "## Introductory information\n",
    "#### Experiment context:\n",
    "\n",
    "Company \"N\" conducted an experiment.  \n",
    "When opening the company's website, one part of the users was shown a standard pop-up window with a questionnaire, and the other part of the users were shown a new version of the pop-up window. In both cases, users could answer \"yes\" or \"no\" to the question asked in the questionnaire or close the pop-up window without answering.\n",
    "\n",
    "Did the new version of the questionnaire affect the conversion?\n",
    "\n",
    "#### Comment:\n",
    "Data was taken from this [source](https://www.kaggle.com/datasets/osuolaleemmanuel/ad-ab-testing).\n"
   ]
  },
  {
   "cell_type": "markdown",
   "id": "c641a209",
   "metadata": {},
   "source": [
    "## Examination of the data collected during the experiment\n",
    "\n",
    "#### Description of columns:\n",
    "- __auction_id__ - unique user identifier assigned when a user is shown a pop-up window with a questionnaire;\n",
    "- __experiment__ - user group (\"control\" - control, \"exposed\" - experimental);\n",
    "- __date__ - date;\n",
    "- __hour__ - hour;\n",
    "- __device_make__ - the device on which the site was opened;\n",
    "- __platform_os__ - device OS identifier;\n",
    "- __browser__ - the browser used by the user;\n",
    "- __yes__ - the user answered yes to the questionnaire question (0 - no, 1 - yes);\n",
    "- __no__ - the user answered the questionnaire question negatively (0 - no, 1 - yes)."
   ]
  },
  {
   "cell_type": "code",
   "execution_count": 3,
   "id": "b831d130",
   "metadata": {},
   "outputs": [],
   "source": [
    "import pandas as pd\n",
    "import numpy as np\n",
    "from scipy import stats"
   ]
  },
  {
   "cell_type": "code",
   "execution_count": 4,
   "id": "6bce4318",
   "metadata": {},
   "outputs": [
    {
     "data": {
      "text/html": [
       "<div>\n",
       "<style scoped>\n",
       "    .dataframe tbody tr th:only-of-type {\n",
       "        vertical-align: middle;\n",
       "    }\n",
       "\n",
       "    .dataframe tbody tr th {\n",
       "        vertical-align: top;\n",
       "    }\n",
       "\n",
       "    .dataframe thead th {\n",
       "        text-align: right;\n",
       "    }\n",
       "</style>\n",
       "<table border=\"1\" class=\"dataframe\">\n",
       "  <thead>\n",
       "    <tr style=\"text-align: right;\">\n",
       "      <th></th>\n",
       "      <th>auction_id</th>\n",
       "      <th>experiment</th>\n",
       "      <th>date</th>\n",
       "      <th>hour</th>\n",
       "      <th>device_make</th>\n",
       "      <th>platform_os</th>\n",
       "      <th>browser</th>\n",
       "      <th>yes</th>\n",
       "      <th>no</th>\n",
       "    </tr>\n",
       "  </thead>\n",
       "  <tbody>\n",
       "    <tr>\n",
       "      <th>0</th>\n",
       "      <td>0008ef63-77a7-448b-bd1e-075f42c55e39</td>\n",
       "      <td>exposed</td>\n",
       "      <td>2020-07-10</td>\n",
       "      <td>8</td>\n",
       "      <td>Generic Smartphone</td>\n",
       "      <td>6</td>\n",
       "      <td>Chrome Mobile</td>\n",
       "      <td>0</td>\n",
       "      <td>0</td>\n",
       "    </tr>\n",
       "    <tr>\n",
       "      <th>1</th>\n",
       "      <td>000eabc5-17ce-4137-8efe-44734d914446</td>\n",
       "      <td>exposed</td>\n",
       "      <td>2020-07-07</td>\n",
       "      <td>10</td>\n",
       "      <td>Generic Smartphone</td>\n",
       "      <td>6</td>\n",
       "      <td>Chrome Mobile</td>\n",
       "      <td>0</td>\n",
       "      <td>0</td>\n",
       "    </tr>\n",
       "    <tr>\n",
       "      <th>2</th>\n",
       "      <td>0016d14a-ae18-4a02-a204-6ba53b52f2ed</td>\n",
       "      <td>exposed</td>\n",
       "      <td>2020-07-05</td>\n",
       "      <td>2</td>\n",
       "      <td>E5823</td>\n",
       "      <td>6</td>\n",
       "      <td>Chrome Mobile WebView</td>\n",
       "      <td>0</td>\n",
       "      <td>1</td>\n",
       "    </tr>\n",
       "    <tr>\n",
       "      <th>3</th>\n",
       "      <td>00187412-2932-4542-a8ef-3633901c98d9</td>\n",
       "      <td>control</td>\n",
       "      <td>2020-07-03</td>\n",
       "      <td>15</td>\n",
       "      <td>Samsung SM-A705FN</td>\n",
       "      <td>6</td>\n",
       "      <td>Facebook</td>\n",
       "      <td>0</td>\n",
       "      <td>0</td>\n",
       "    </tr>\n",
       "    <tr>\n",
       "      <th>4</th>\n",
       "      <td>001a7785-d3fe-4e11-a344-c8735acacc2c</td>\n",
       "      <td>control</td>\n",
       "      <td>2020-07-03</td>\n",
       "      <td>15</td>\n",
       "      <td>Generic Smartphone</td>\n",
       "      <td>6</td>\n",
       "      <td>Chrome Mobile</td>\n",
       "      <td>0</td>\n",
       "      <td>0</td>\n",
       "    </tr>\n",
       "    <tr>\n",
       "      <th>...</th>\n",
       "      <td>...</td>\n",
       "      <td>...</td>\n",
       "      <td>...</td>\n",
       "      <td>...</td>\n",
       "      <td>...</td>\n",
       "      <td>...</td>\n",
       "      <td>...</td>\n",
       "      <td>...</td>\n",
       "      <td>...</td>\n",
       "    </tr>\n",
       "    <tr>\n",
       "      <th>8072</th>\n",
       "      <td>ffea24ec-cec1-43fb-b1d1-8f93828c2be2</td>\n",
       "      <td>exposed</td>\n",
       "      <td>2020-07-05</td>\n",
       "      <td>7</td>\n",
       "      <td>Generic Smartphone</td>\n",
       "      <td>6</td>\n",
       "      <td>Chrome Mobile</td>\n",
       "      <td>0</td>\n",
       "      <td>0</td>\n",
       "    </tr>\n",
       "    <tr>\n",
       "      <th>8073</th>\n",
       "      <td>ffea3210-2c3e-426f-a77d-0aa72e73b20f</td>\n",
       "      <td>control</td>\n",
       "      <td>2020-07-03</td>\n",
       "      <td>15</td>\n",
       "      <td>Generic Smartphone</td>\n",
       "      <td>6</td>\n",
       "      <td>Chrome Mobile</td>\n",
       "      <td>0</td>\n",
       "      <td>0</td>\n",
       "    </tr>\n",
       "    <tr>\n",
       "      <th>8074</th>\n",
       "      <td>ffeaa0f1-1d72-4ba9-afb4-314b3b00a7c7</td>\n",
       "      <td>control</td>\n",
       "      <td>2020-07-04</td>\n",
       "      <td>9</td>\n",
       "      <td>Generic Smartphone</td>\n",
       "      <td>6</td>\n",
       "      <td>Chrome Mobile</td>\n",
       "      <td>0</td>\n",
       "      <td>0</td>\n",
       "    </tr>\n",
       "    <tr>\n",
       "      <th>8075</th>\n",
       "      <td>ffeeed62-3f7c-4a6e-8ba7-95d303d40969</td>\n",
       "      <td>exposed</td>\n",
       "      <td>2020-07-05</td>\n",
       "      <td>15</td>\n",
       "      <td>Samsung SM-A515F</td>\n",
       "      <td>6</td>\n",
       "      <td>Samsung Internet</td>\n",
       "      <td>0</td>\n",
       "      <td>0</td>\n",
       "    </tr>\n",
       "    <tr>\n",
       "      <th>8076</th>\n",
       "      <td>fffbb9ff-568a-41a5-a0c3-6866592f80d8</td>\n",
       "      <td>control</td>\n",
       "      <td>2020-07-10</td>\n",
       "      <td>14</td>\n",
       "      <td>Samsung SM-G960F</td>\n",
       "      <td>6</td>\n",
       "      <td>Facebook</td>\n",
       "      <td>0</td>\n",
       "      <td>0</td>\n",
       "    </tr>\n",
       "  </tbody>\n",
       "</table>\n",
       "<p>8077 rows × 9 columns</p>\n",
       "</div>"
      ],
      "text/plain": [
       "                                auction_id experiment        date  hour  \\\n",
       "0     0008ef63-77a7-448b-bd1e-075f42c55e39    exposed  2020-07-10     8   \n",
       "1     000eabc5-17ce-4137-8efe-44734d914446    exposed  2020-07-07    10   \n",
       "2     0016d14a-ae18-4a02-a204-6ba53b52f2ed    exposed  2020-07-05     2   \n",
       "3     00187412-2932-4542-a8ef-3633901c98d9    control  2020-07-03    15   \n",
       "4     001a7785-d3fe-4e11-a344-c8735acacc2c    control  2020-07-03    15   \n",
       "...                                    ...        ...         ...   ...   \n",
       "8072  ffea24ec-cec1-43fb-b1d1-8f93828c2be2    exposed  2020-07-05     7   \n",
       "8073  ffea3210-2c3e-426f-a77d-0aa72e73b20f    control  2020-07-03    15   \n",
       "8074  ffeaa0f1-1d72-4ba9-afb4-314b3b00a7c7    control  2020-07-04     9   \n",
       "8075  ffeeed62-3f7c-4a6e-8ba7-95d303d40969    exposed  2020-07-05    15   \n",
       "8076  fffbb9ff-568a-41a5-a0c3-6866592f80d8    control  2020-07-10    14   \n",
       "\n",
       "             device_make  platform_os                browser  yes  no  \n",
       "0     Generic Smartphone            6          Chrome Mobile    0   0  \n",
       "1     Generic Smartphone            6          Chrome Mobile    0   0  \n",
       "2                  E5823            6  Chrome Mobile WebView    0   1  \n",
       "3      Samsung SM-A705FN            6               Facebook    0   0  \n",
       "4     Generic Smartphone            6          Chrome Mobile    0   0  \n",
       "...                  ...          ...                    ...  ...  ..  \n",
       "8072  Generic Smartphone            6          Chrome Mobile    0   0  \n",
       "8073  Generic Smartphone            6          Chrome Mobile    0   0  \n",
       "8074  Generic Smartphone            6          Chrome Mobile    0   0  \n",
       "8075    Samsung SM-A515F            6       Samsung Internet    0   0  \n",
       "8076    Samsung SM-G960F            6               Facebook    0   0  \n",
       "\n",
       "[8077 rows x 9 columns]"
      ]
     },
     "execution_count": 4,
     "metadata": {},
     "output_type": "execute_result"
    }
   ],
   "source": [
    "# loading of dataframe \n",
    "df = pd.read_csv(r\"data\\ab_data_1.csv\")\n",
    "df"
   ]
  },
  {
   "cell_type": "code",
   "execution_count": 5,
   "id": "b41b9f87",
   "metadata": {},
   "outputs": [
    {
     "data": {
      "text/plain": [
       "Friday       2908\n",
       "Thursday     1208\n",
       "Wednesday    1198\n",
       "Saturday      903\n",
       "Sunday        890\n",
       "Monday        490\n",
       "Tuesday       480\n",
       "Name: date, dtype: int64"
      ]
     },
     "execution_count": 5,
     "metadata": {},
     "output_type": "execute_result"
    }
   ],
   "source": [
    "# experiment time \n",
    "df['date'].nunique()\n",
    "\n",
    "# number of demonstrations on different days of the week \n",
    "df['date'] = pd.to_datetime(df['date'])\n",
    "df['date'].dt.day_name().value_counts()\n",
    "\n",
    "## experiment lasted 8 days\n",
    "## A-B test lasts more than a week, this allows you to take into account the difference in user behavior on different days of the week"
   ]
  },
  {
   "cell_type": "code",
   "execution_count": 6,
   "id": "663cabe4",
   "metadata": {},
   "outputs": [
    {
     "data": {
      "text/plain": [
       "Chrome Mobile            0.563823\n",
       "Chrome Mobile WebView    0.184351\n",
       "Samsung Internet         0.102018\n",
       "Facebook                 0.094590\n",
       "Mobile Safari            0.041723\n",
       "OTHER                    0.013495\n",
       "Name: browser, dtype: float64"
      ]
     },
     "execution_count": 6,
     "metadata": {},
     "output_type": "execute_result"
    }
   ],
   "source": [
    "# which browsers were used by the participants of the experiment\n",
    "\n",
    "df['browser'].value_counts()\n",
    "\n",
    "## infrequently used browsers are merged into one \"OTHER\" group\n",
    "valid_br = df['browser'].value_counts().index[:5]\n",
    "df['browser'] = df['browser'].apply(lambda a: a if a in valid_br else 'OTHER')\n",
    "\n",
    "df['browser'].value_counts(normalize=True)\n",
    "\n",
    "## more than half of the users used \"Chrome Mobile\" during the experiment"
   ]
  },
  {
   "cell_type": "code",
   "execution_count": 7,
   "id": "8d87e21e",
   "metadata": {},
   "outputs": [],
   "source": [
    "# adding a \"pass\" column that determines whether the user has completed the target action or not \n",
    "df['pass'] = df.apply(lambda row: 0 if (row['yes']==0)&(row['no']==0) else 1, axis=1)\n",
    "\n",
    "# dividing the dataframe into experimental and control groups\n",
    "df_control = df[df['experiment']=='control']\n",
    "df_exposed = df[df['experiment']=='exposed']"
   ]
  },
  {
   "cell_type": "code",
   "execution_count": 8,
   "id": "b84df4b2",
   "metadata": {},
   "outputs": [
    {
     "name": "stdout",
     "output_type": "stream",
     "text": [
      "experimental group:\n",
      "0    0.835996\n",
      "1    0.164004\n",
      "Name: pass, dtype: float64\n",
      "\n",
      "control group:\n",
      "0    0.856055\n",
      "1    0.143945\n",
      "Name: pass, dtype: float64\n"
     ]
    }
   ],
   "source": [
    "# experimental group\n",
    "print('experimental group:', df_exposed['pass'].value_counts(normalize=True), sep='\\n', end='\\n\\n')\n",
    "\n",
    "# control group\n",
    "print('control group:', df_control['pass'].value_counts(normalize=True), sep='\\n')\n",
    "\n",
    "## in the experimental group, the conversion is 16%, in the control group - 14%\n",
    "## i.e. effect size was 2"
   ]
  },
  {
   "cell_type": "markdown",
   "id": "a318fd5a",
   "metadata": {},
   "source": [
    "## Testing the hypothesis about the impact of the new version of the questionnaire on the conversion ¶\n",
    "\n",
    "H<sub>0</sub>: The percentage of people who completed the survey is the same in both groups  \n",
    "H<sub>А</sub>: The percentage of people who completed the survey is higher in the experimental group than in the control group"
   ]
  },
  {
   "cell_type": "code",
   "execution_count": 9,
   "id": "1550a145",
   "metadata": {},
   "outputs": [],
   "source": [
    "## to test the hypothesis, we use the Z-test for the difference in shares in independent samples\n",
    "from statsmodels.stats.proportion import proportions_ztest\n",
    "\n",
    "# control sample size \n",
    "control_len = len(df_control)\n",
    "# number of people who completed the survey in the control sample \n",
    "control_pass = len(df_control[df_control['pass']==1])\n",
    "\n",
    "# experimental sample size \n",
    "exposed_len = len(df_exposed)\n",
    "# number of people who completed the survey in the experimental sample \n",
    "exposed_pass = len(df_exposed[df_exposed['pass']==1])\n",
    "\n",
    "# significance level\n",
    "alpha = 0.05 "
   ]
  },
  {
   "cell_type": "code",
   "execution_count": 10,
   "id": "45662959",
   "metadata": {},
   "outputs": [
    {
     "name": "stdout",
     "output_type": "stream",
     "text": [
      "p-value: 0.0125\n"
     ]
    }
   ],
   "source": [
    "# testing the hypothesis of equality of shares  \n",
    "_, p_val =  proportions_ztest(count=(exposed_pass, control_pass), nobs=(exposed_len, control_len))\n",
    "print(f\"p-value: {p_val:.3}\") \n",
    "## p-value is less than the previously defined significance level. null hypothesis hypothesis rejected\n",
    "## the proportions of people who answered the question in the two groups are not equal"
   ]
  },
  {
   "cell_type": "code",
   "execution_count": 11,
   "id": "b602292b",
   "metadata": {},
   "outputs": [
    {
     "name": "stdout",
     "output_type": "stream",
     "text": [
      "p-value: 0.00625\n"
     ]
    }
   ],
   "source": [
    "## testing the hypothesis of equality of shares, indicating an alternative hypothesis: the proportion of those who completed the survey in the experimental group is higher than in the control group\n",
    "_, p_val =  proportions_ztest(count=(exposed_pass, control_pass), nobs=(exposed_len, control_len), alternative='larger')\n",
    "print(f\"p-value: {p_val:.3}\") \n",
    "## p-value is less than the previously determined significance level, the null hypothesis is rejected in favor of the alternative"
   ]
  },
  {
   "cell_type": "code",
   "execution_count": 12,
   "id": "46086243",
   "metadata": {},
   "outputs": [
    {
     "data": {
      "text/plain": [
       "0.9715829560005882"
      ]
     },
     "execution_count": 12,
     "metadata": {},
     "output_type": "execute_result"
    }
   ],
   "source": [
    "# calculation of the power of the experiment \n",
    "\n",
    "# the \"get_power\" function makes it easy to work with the \"zt_ind_solve_power\" function from the \"statsmodels\" library\n",
    "def get_power(l_1, l_2, g_1, g_2, alpha, alternative='two-sided'):\n",
    "    \n",
    "    from statsmodels.stats.power import zt_ind_solve_power\n",
    "    \n",
    "    # share of users who answered the question from the questionnaire\n",
    "    p_1 = g_1 / l_1\n",
    "    p_2 = g_2 / l_2 \n",
    "    \n",
    "    # dispersion\n",
    "    var_1 = p_1 * (1-p_1)\n",
    "    var_2 = p_2 * (1-p_2)\n",
    "    \n",
    "    # standardized effect size\n",
    "    st_ef = (p_2 - p_1) / ((l_1*np.sqrt(var_1) + l_2*np.sqrt(var_2)) / (l_1 + l_2))\n",
    "\n",
    "    return zt_ind_solve_power(effect_size=st_ef, # standardized effect size\n",
    "                       nobs1=l_1 + l_2,          # total number of observations\n",
    "                       alpha=alpha,              # significance level\n",
    "                       power=None,               # power (None, because it needs to be found)\n",
    "                       ratio=l_1 / l_2,          # sample size ratio\n",
    "                       alternative=alternative)  # alternative\n",
    "        \n",
    "get_power(len(df_control), \n",
    "          len(df_exposed), \n",
    "          df_control['pass'].value_counts()[1], \n",
    "          df_exposed['pass'].value_counts()[1],\n",
    "          alpha=0.05, alternative='larger')    \n",
    "## at a significance level of 0.05, the power of the experiment is 0.97"
   ]
  },
  {
   "cell_type": "markdown",
   "id": "4da7ff7e",
   "metadata": {},
   "source": [
    "Checking the result of the power calculation result.  \n",
    "Based on the obtained power, we calculate the sample size known to us in advance. The calculation of the sample size required to obtain the given errors of the first and second kind, in this case, will be performed according to the formula:  \n",
    "\n",
    "$$n = \\left(\\frac{{Z_{1-\\alpha} \\cdot \\sqrt{{p_{\\text{0}} \\cdot (1 - p_{\\text{0}})}} + Z_{1-\\beta} \\cdot \\sqrt{{p_{\\text{a}} \\cdot (1 - p_{\\text{a}})}}}}{{p_{\\text{a}} - p_{\\text{0}}}}\\right)^2$$\n",
    "\n",
    "where:  \n",
    "__n__ - number of observations;  \n",
    "__α__ - error of the first kind;  \n",
    "__β__ - error of the second kind;  \n",
    "__z<sub>1-α</sub>,  z<sub>1-β</sub>__ - quantiles of the normal distribution;  \n",
    "__p<sub>0</sub>__,  __p<sub>a</sub>__ - ratio of answers to a question to window displays in the control group and in the experimental group;  \n",
    "__(p<sub>0</sub> - p<sub>a</sub>)__ - the size of the effect we want to detect."
   ]
  },
  {
   "cell_type": "code",
   "execution_count": 13,
   "id": "518f5086",
   "metadata": {},
   "outputs": [
    {
     "data": {
      "text/plain": [
       "4033"
      ]
     },
     "execution_count": 13,
     "metadata": {},
     "output_type": "execute_result"
    }
   ],
   "source": [
    "# function for calculating the required sample size to achieve the required values of errors of the first and second kind\n",
    "\n",
    "def get_size(p0, pa, alpha, beta):\n",
    "    za = stats.norm.ppf(1 - alpha)\n",
    "    zb = stats.norm.ppf(1 - beta)    \n",
    "    n = za * np.sqrt(p0*(1 - p0)) + zb * np.sqrt(pa*(1-pa))\n",
    "    n = n / (pa - p0) \n",
    "    return int(np.ceil(n*n))\n",
    "\n",
    "alpha = 0.05\n",
    "beta = 0.03 # 1 - 0.97 (the resulted value of power)\n",
    "\n",
    "get_size(df_control['pass'].value_counts(normalize=True)[1],\n",
    "         df_exposed['pass'].value_counts(normalize=True)[1], \n",
    "         alpha, beta)\n",
    "## the result of calculating the required size of one group is 4033 (assuming the two groups are the same). actual group sizes are 4071, 4006\n",
    "## according to the result of the check, we can conclude that the power of the experiment was calculated correctly"
   ]
  },
  {
   "cell_type": "markdown",
   "id": "584958b9",
   "metadata": {},
   "source": [
    "## The influence of the browser used on the conversion during the experiment\n",
    "Let's test the hypothesis about the equality of conversions in the control and experimental groups, taking into account the browser in which users opened the site."
   ]
  },
  {
   "cell_type": "code",
   "execution_count": 14,
   "id": "7084027f",
   "metadata": {},
   "outputs": [
    {
     "data": {
      "text/html": [
       "<div>\n",
       "<style scoped>\n",
       "    .dataframe tbody tr th:only-of-type {\n",
       "        vertical-align: middle;\n",
       "    }\n",
       "\n",
       "    .dataframe tbody tr th {\n",
       "        vertical-align: top;\n",
       "    }\n",
       "\n",
       "    .dataframe thead th {\n",
       "        text-align: right;\n",
       "    }\n",
       "</style>\n",
       "<table border=\"1\" class=\"dataframe\">\n",
       "  <thead>\n",
       "    <tr style=\"text-align: right;\">\n",
       "      <th></th>\n",
       "      <th>pass_exposed</th>\n",
       "      <th>pass_control</th>\n",
       "    </tr>\n",
       "    <tr>\n",
       "      <th>browser</th>\n",
       "      <th></th>\n",
       "      <th></th>\n",
       "    </tr>\n",
       "  </thead>\n",
       "  <tbody>\n",
       "    <tr>\n",
       "      <th>Chrome Mobile</th>\n",
       "      <td>2144</td>\n",
       "      <td>2410</td>\n",
       "    </tr>\n",
       "    <tr>\n",
       "      <th>Chrome Mobile WebView</th>\n",
       "      <td>1197</td>\n",
       "      <td>292</td>\n",
       "    </tr>\n",
       "    <tr>\n",
       "      <th>Facebook</th>\n",
       "      <td>203</td>\n",
       "      <td>561</td>\n",
       "    </tr>\n",
       "    <tr>\n",
       "      <th>Mobile Safari</th>\n",
       "      <td>91</td>\n",
       "      <td>246</td>\n",
       "    </tr>\n",
       "    <tr>\n",
       "      <th>OTHER</th>\n",
       "      <td>39</td>\n",
       "      <td>70</td>\n",
       "    </tr>\n",
       "    <tr>\n",
       "      <th>Samsung Internet</th>\n",
       "      <td>332</td>\n",
       "      <td>492</td>\n",
       "    </tr>\n",
       "  </tbody>\n",
       "</table>\n",
       "</div>"
      ],
      "text/plain": [
       "                       pass_exposed  pass_control\n",
       "browser                                          \n",
       "Chrome Mobile                  2144          2410\n",
       "Chrome Mobile WebView          1197           292\n",
       "Facebook                        203           561\n",
       "Mobile Safari                    91           246\n",
       "OTHER                            39            70\n",
       "Samsung Internet                332           492"
      ]
     },
     "execution_count": 14,
     "metadata": {},
     "output_type": "execute_result"
    }
   ],
   "source": [
    "# summary table of the number of profile impressions in different browsers \n",
    "\n",
    "browser_tab = df_exposed.groupby(['browser']).agg({'pass':'count'}).merge(\n",
    "    df_control.groupby(['browser']).agg({'pass':'count'}), \n",
    "    left_index=True, right_index=True,  suffixes=('_exposed', '_control'))\n",
    "\n",
    "browser_tab"
   ]
  },
  {
   "cell_type": "code",
   "execution_count": 15,
   "id": "9b109acc",
   "metadata": {},
   "outputs": [
    {
     "data": {
      "text/html": [
       "<div>\n",
       "<style scoped>\n",
       "    .dataframe tbody tr th:only-of-type {\n",
       "        vertical-align: middle;\n",
       "    }\n",
       "\n",
       "    .dataframe tbody tr th {\n",
       "        vertical-align: top;\n",
       "    }\n",
       "\n",
       "    .dataframe thead th {\n",
       "        text-align: right;\n",
       "    }\n",
       "</style>\n",
       "<table border=\"1\" class=\"dataframe\">\n",
       "  <thead>\n",
       "    <tr style=\"text-align: right;\">\n",
       "      <th></th>\n",
       "      <th></th>\n",
       "      <th>pass_exposed</th>\n",
       "      <th>pass_control</th>\n",
       "    </tr>\n",
       "    <tr>\n",
       "      <th>browser</th>\n",
       "      <th>pass</th>\n",
       "      <th></th>\n",
       "      <th></th>\n",
       "    </tr>\n",
       "  </thead>\n",
       "  <tbody>\n",
       "    <tr>\n",
       "      <th rowspan=\"2\" valign=\"top\">Chrome Mobile</th>\n",
       "      <th>0</th>\n",
       "      <td>1773</td>\n",
       "      <td>2086</td>\n",
       "    </tr>\n",
       "    <tr>\n",
       "      <th>1</th>\n",
       "      <td>371</td>\n",
       "      <td>324</td>\n",
       "    </tr>\n",
       "    <tr>\n",
       "      <th rowspan=\"2\" valign=\"top\">Chrome Mobile WebView</th>\n",
       "      <th>0</th>\n",
       "      <td>1017</td>\n",
       "      <td>245</td>\n",
       "    </tr>\n",
       "    <tr>\n",
       "      <th>1</th>\n",
       "      <td>180</td>\n",
       "      <td>47</td>\n",
       "    </tr>\n",
       "    <tr>\n",
       "      <th rowspan=\"2\" valign=\"top\">Facebook</th>\n",
       "      <th>0</th>\n",
       "      <td>159</td>\n",
       "      <td>449</td>\n",
       "    </tr>\n",
       "    <tr>\n",
       "      <th>1</th>\n",
       "      <td>44</td>\n",
       "      <td>112</td>\n",
       "    </tr>\n",
       "    <tr>\n",
       "      <th rowspan=\"2\" valign=\"top\">Mobile Safari</th>\n",
       "      <th>0</th>\n",
       "      <td>87</td>\n",
       "      <td>236</td>\n",
       "    </tr>\n",
       "    <tr>\n",
       "      <th>1</th>\n",
       "      <td>4</td>\n",
       "      <td>10</td>\n",
       "    </tr>\n",
       "    <tr>\n",
       "      <th rowspan=\"2\" valign=\"top\">OTHER</th>\n",
       "      <th>0</th>\n",
       "      <td>38</td>\n",
       "      <td>65</td>\n",
       "    </tr>\n",
       "    <tr>\n",
       "      <th>1</th>\n",
       "      <td>1</td>\n",
       "      <td>5</td>\n",
       "    </tr>\n",
       "    <tr>\n",
       "      <th rowspan=\"2\" valign=\"top\">Samsung Internet</th>\n",
       "      <th>0</th>\n",
       "      <td>275</td>\n",
       "      <td>404</td>\n",
       "    </tr>\n",
       "    <tr>\n",
       "      <th>1</th>\n",
       "      <td>57</td>\n",
       "      <td>88</td>\n",
       "    </tr>\n",
       "  </tbody>\n",
       "</table>\n",
       "</div>"
      ],
      "text/plain": [
       "                            pass_exposed  pass_control\n",
       "browser               pass                            \n",
       "Chrome Mobile         0             1773          2086\n",
       "                      1              371           324\n",
       "Chrome Mobile WebView 0             1017           245\n",
       "                      1              180            47\n",
       "Facebook              0              159           449\n",
       "                      1               44           112\n",
       "Mobile Safari         0               87           236\n",
       "                      1                4            10\n",
       "OTHER                 0               38            65\n",
       "                      1                1             5\n",
       "Samsung Internet      0              275           404\n",
       "                      1               57            88"
      ]
     },
     "execution_count": 15,
     "metadata": {},
     "output_type": "execute_result"
    }
   ],
   "source": [
    "# summary table of the number of passes and answers to the questionnaire question\n",
    "browser_tab_dit = df_exposed.groupby(['browser']).agg({'pass':'value_counts'}).merge(\n",
    "    df_control.groupby(['browser']).agg({'pass':'value_counts'}), \n",
    "    left_index=True, right_index=True,  suffixes=('_exposed', '_control'))\n",
    "\n",
    "browser_tab_dit"
   ]
  },
  {
   "cell_type": "code",
   "execution_count": null,
   "id": "2345bd74",
   "metadata": {},
   "outputs": [],
   "source": [
    "# testing the hypothesis of equality of conversions in the control and experimental groups for each browser"
   ]
  },
  {
   "cell_type": "code",
   "execution_count": 16,
   "id": "dc446e18",
   "metadata": {},
   "outputs": [
    {
     "name": "stdout",
     "output_type": "stream",
     "text": [
      "p-value: 0.00015\n",
      "power: 0.9998633200807792\n"
     ]
    }
   ],
   "source": [
    "_, p_val =  proportions_ztest(count=(browser_tab_dit.loc['Chrome Mobile', 'pass_exposed'][1],browser_tab_dit.loc['Chrome Mobile', 'pass_control'][1]), \n",
    "                              nobs=(browser_tab.loc['Chrome Mobile', 'pass_exposed'], browser_tab.loc['Chrome Mobile', 'pass_control']), alternative='larger')\n",
    "print(f\"p-value: {p_val:.3}\") \n",
    "print('power:', get_power(browser_tab.loc['Chrome Mobile', 'pass_control'],\n",
    "          browser_tab.loc['Chrome Mobile', 'pass_exposed'],\n",
    "          browser_tab_dit.loc['Chrome Mobile', 'pass_control'][1],\n",
    "          browser_tab_dit.loc['Chrome Mobile', 'pass_exposed'][1],\n",
    "          alpha=0.05, alternative='larger'))"
   ]
  },
  {
   "cell_type": "code",
   "execution_count": 17,
   "id": "95dd82e3",
   "metadata": {},
   "outputs": [
    {
     "name": "stdout",
     "output_type": "stream",
     "text": [
      "p-value: 0.326\n",
      "power: 0.12679098371579473\n"
     ]
    }
   ],
   "source": [
    "_, p_val =  proportions_ztest(count=(browser_tab_dit.loc['Chrome Mobile WebView', 'pass_exposed'][1],browser_tab_dit.loc['Chrome Mobile WebView', 'pass_control'][1]), \n",
    "                              nobs=(browser_tab.loc['Chrome Mobile WebView', 'pass_exposed'], browser_tab.loc['Chrome Mobile WebView', 'pass_control']), alternative='smaller')\n",
    "print(f\"p-value: {p_val:.3}\") \n",
    "print('power:', get_power(browser_tab.loc['Chrome Mobile WebView', 'pass_control'],\n",
    "          browser_tab.loc['Chrome Mobile WebView', 'pass_exposed'],\n",
    "          browser_tab_dit.loc['Chrome Mobile WebView', 'pass_control'][1],\n",
    "          browser_tab_dit.loc['Chrome Mobile WebView', 'pass_exposed'][1],\n",
    "          alpha=0.05, alternative='smaller'))"
   ]
  },
  {
   "cell_type": "code",
   "execution_count": 18,
   "id": "cd94ef0b",
   "metadata": {},
   "outputs": [
    {
     "name": "stdout",
     "output_type": "stream",
     "text": [
      "p-value: 0.302\n",
      "power: 0.26123956220629674\n"
     ]
    }
   ],
   "source": [
    "_, p_val =  proportions_ztest(count=(browser_tab_dit.loc['Facebook', 'pass_exposed'][1],browser_tab_dit.loc['Facebook', 'pass_control'][1]), \n",
    "                              nobs=(browser_tab.loc['Facebook', 'pass_exposed'], browser_tab.loc['Facebook', 'pass_control']), alternative='larger')\n",
    "print(f\"p-value: {p_val:.3}\") \n",
    "print('power:', get_power(browser_tab.loc['Facebook', 'pass_control'],\n",
    "          browser_tab.loc['Facebook', 'pass_exposed'],\n",
    "          browser_tab_dit.loc['Facebook', 'pass_control'][1],\n",
    "          browser_tab_dit.loc['Facebook', 'pass_exposed'][1],\n",
    "          alpha=0.05, alternative='larger'))"
   ]
  },
  {
   "cell_type": "code",
   "execution_count": 19,
   "id": "106401df",
   "metadata": {},
   "outputs": [
    {
     "name": "stdout",
     "output_type": "stream",
     "text": [
      "p-value: 0.446\n",
      "power: 0.08302908202596099\n"
     ]
    }
   ],
   "source": [
    "_, p_val =  proportions_ztest(count=(browser_tab_dit.loc['Mobile Safari', 'pass_exposed'][1],browser_tab_dit.loc['Mobile Safari', 'pass_control'][1]), \n",
    "                              nobs=(browser_tab.loc['Mobile Safari', 'pass_exposed'], browser_tab.loc['Mobile Safari', 'pass_control']), alternative='larger')\n",
    "print(f\"p-value: {p_val:.3}\") \n",
    "print('power:', get_power(browser_tab.loc['Mobile Safari', 'pass_control'],\n",
    "          browser_tab.loc['Mobile Safari', 'pass_exposed'],\n",
    "          browser_tab_dit.loc['Mobile Safari', 'pass_control'][1],\n",
    "          browser_tab_dit.loc['Mobile Safari', 'pass_exposed'][1],\n",
    "          alpha=0.05, alternative='larger')) "
   ]
  },
  {
   "cell_type": "code",
   "execution_count": 20,
   "id": "4badec0d",
   "metadata": {},
   "outputs": [
    {
     "name": "stdout",
     "output_type": "stream",
     "text": [
      "p-value: 0.395\n",
      "power: 0.10993357712883428\n"
     ]
    }
   ],
   "source": [
    "_, p_val =  proportions_ztest(count=(browser_tab_dit.loc['Samsung Internet', 'pass_exposed'][1],browser_tab_dit.loc['Samsung Internet', 'pass_control'][1]), \n",
    "                              nobs=(browser_tab.loc['Samsung Internet', 'pass_exposed'], browser_tab.loc['Samsung Internet', 'pass_control']), alternative='smaller')\n",
    "print(f\"p-value: {p_val:.3}\") \n",
    "print('power:', get_power(browser_tab.loc['Samsung Internet', 'pass_control'],\n",
    "          browser_tab.loc['Samsung Internet', 'pass_exposed'],\n",
    "          browser_tab_dit.loc['Samsung Internet', 'pass_control'][1],\n",
    "          browser_tab_dit.loc['Samsung Internet', 'pass_exposed'][1],\n",
    "          alpha=0.05, alternative='smaller'))"
   ]
  },
  {
   "cell_type": "code",
   "execution_count": 21,
   "id": "8f2aab51",
   "metadata": {},
   "outputs": [
    {
     "name": "stdout",
     "output_type": "stream",
     "text": [
      "p-value: 0.158\n",
      "power: 0.5323486996315873\n"
     ]
    }
   ],
   "source": [
    "_, p_val =  proportions_ztest(count=(browser_tab_dit.loc['OTHER', 'pass_exposed'][1],browser_tab_dit.loc['OTHER', 'pass_control'][1]), \n",
    "                              nobs=(browser_tab.loc['OTHER', 'pass_exposed'], browser_tab.loc['OTHER', 'pass_control']), alternative='smaller')\n",
    "print(f\"p-value: {p_val:.3}\") \n",
    "print('power:', get_power(browser_tab.loc['OTHER', 'pass_control'],\n",
    "          browser_tab.loc['OTHER', 'pass_exposed'],\n",
    "          browser_tab_dit.loc['OTHER', 'pass_control'][1],\n",
    "          browser_tab_dit.loc['OTHER', 'pass_exposed'][1],\n",
    "          alpha=0.05, alternative='smaller'))"
   ]
  },
  {
   "cell_type": "code",
   "execution_count": null,
   "id": "7ac6c9bb",
   "metadata": {},
   "outputs": [],
   "source": [
    "## statistically significant difference in conversions is observed only in the case of \"Chrome Mobile\"\n",
    "## in other cases, the hypothesis of the absence of differences in conversions is not rejected, however, the power of these experiments is low"
   ]
  },
  {
   "cell_type": "markdown",
   "id": "1574b0c1",
   "metadata": {},
   "source": [
    "## Summary \n",
    "\n",
    "#### Research results:\n",
    "- A new pop-up window option has a positive effect on the conversion rate of the survey. A statistical test confirms the significance of the difference.\n",
    "- Under the current conditions of the experiment, the conversion in the control group was 14%, and in the experimental group 16%.\n",
    "- Under the current experimental conditions, there is a statistically significant difference between conversions in the control and experimental groups only among users using \"Chrome Mobile\" to view the site. However, in the case of users of other browsers, the power of the corresponding experiments is small.\n",
    "\n",
    " \n",
    "#### Recommendations:\n",
    "- The owner of the product (website) needs to make a conclusion about the significance of the conversion change.\n",
    "- If changes are considered significant, it is recommended that an A-A test be performed to verify the results of the A-B test.\n",
    "- To be more confident about the absence of statistically significant differences between conversions in the control and experimental groups among users who use not \"Chrome Mobile\" to view the site, it is necessary to increase the number of users participating in the experiment.\n",
    "\n",
    " \n",
    "#### Comment:\n",
    "All conclusions are made based on the assumption that the users participating in the experiment belong to the same cohort, are randomly selected, and also do not participate in other experiments that affect the passage of the current one."
   ]
  }
 ],
 "metadata": {
  "kernelspec": {
   "display_name": "Python 3 (ipykernel)",
   "language": "python",
   "name": "python3"
  },
  "language_info": {
   "codemirror_mode": {
    "name": "ipython",
    "version": 3
   },
   "file_extension": ".py",
   "mimetype": "text/x-python",
   "name": "python",
   "nbconvert_exporter": "python",
   "pygments_lexer": "ipython3",
   "version": "3.9.13"
  }
 },
 "nbformat": 4,
 "nbformat_minor": 5
}
